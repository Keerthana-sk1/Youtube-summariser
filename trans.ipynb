import pytube as pt
import whisper
import whisper

model = whisper.load_model("base")
result = model.transcribe("audio_english.mp3")
print(result["text"])
