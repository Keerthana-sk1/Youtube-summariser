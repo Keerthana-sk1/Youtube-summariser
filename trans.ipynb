import pytube as pt
import whisper
import whisper

yt = pt.YouTube("https://youtu.be/4RixMPF4xis?si=mZhoxdUtRBiRqaMU")
stream = yt.streams.filter(only_audio=True)[0]
stream.download(filename="audio_english.mp3")

model = whisper.load_model("base")
result = model.transcribe("audio_english.mp3")
print(result["text"])
